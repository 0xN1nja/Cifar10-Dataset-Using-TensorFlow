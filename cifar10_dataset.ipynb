{
  "cells": [
    {
      "cell_type": "code",
      "execution_count": 4,
      "id": "d04f1b2b",
      "metadata": {
        "id": "d04f1b2b"
      },
      "outputs": [],
      "source": [
        "import tensorflow as tf\n",
        "import numpy as np"
      ]
    },
    {
      "cell_type": "code",
      "execution_count": 5,
      "id": "fdb6bd2b",
      "metadata": {
        "id": "fdb6bd2b"
      },
      "outputs": [],
      "source": [
        "model=tf.keras.models.Sequential([\n",
        "    tf.keras.layers.Conv2D(128,(3,3),input_shape=(32,32,3),activation=tf.nn.relu),\n",
        "    tf.keras.layers.MaxPool2D(),\n",
        "    tf.keras.layers.Conv2D(128,(3,3),activation=tf.nn.relu),\n",
        "    tf.keras.layers.MaxPool2D(),\n",
        "    tf.keras.layers.Conv2D(128,(3,3),activation=tf.nn.relu),\n",
        "    tf.keras.layers.MaxPool2D(),\n",
        "    tf.keras.layers.Dropout(0.25),\n",
        "    tf.keras.layers.Flatten(),\n",
        "    tf.keras.layers.Dense(1024,activation=tf.nn.relu),\n",
        "    tf.keras.layers.Dense(10,activation=tf.nn.softmax)\n",
        "])"
      ]
    },
    {
      "cell_type": "code",
      "execution_count": 6,
      "id": "6032eebc",
      "metadata": {
        "id": "6032eebc"
      },
      "outputs": [],
      "source": [
        "tsb=tf.keras.callbacks.TensorBoard(log_dir=\"logs/\")"
      ]
    },
    {
      "cell_type": "code",
      "execution_count": 7,
      "id": "af099f6f",
      "metadata": {
        "colab": {
          "base_uri": "https://localhost:8080/"
        },
        "id": "af099f6f",
        "outputId": "1418aec9-5536-4b1e-eb36-c58209cf46df"
      },
      "outputs": [
        {
          "name": "stdout",
          "output_type": "stream",
          "text": [
            "Downloading data from https://www.cs.toronto.edu/~kriz/cifar-10-python.tar.gz\n",
            "170500096/170498071 [==============================] - 6s 0us/step\n",
            "170508288/170498071 [==============================] - 6s 0us/step\n"
          ]
        }
      ],
      "source": [
        "(x_train,y_train),(x,y)=tf.keras.datasets.cifar10.load_data()\n",
        "x_train,x=x_train/255,x/255"
      ]
    },
    {
      "cell_type": "code",
      "execution_count": 8,
      "id": "c299b460",
      "metadata": {
        "id": "c299b460"
      },
      "outputs": [],
      "source": [
        "classes=['plane','car','bird','cat','deer','dog','frog','horse','ship','truck']"
      ]
    },
    {
      "cell_type": "code",
      "execution_count": 9,
      "id": "c4b2c944",
      "metadata": {
        "id": "c4b2c944"
      },
      "outputs": [],
      "source": [
        "model.compile(optimizer=\"adam\",loss=\"sparse_categorical_crossentropy\",metrics=[\"accuracy\"])"
      ]
    },
    {
      "cell_type": "code",
      "execution_count": 10,
      "id": "9eb38e27",
      "metadata": {
        "colab": {
          "base_uri": "https://localhost:8080/"
        },
        "id": "9eb38e27",
        "outputId": "c4fb8843-15d7-4f0d-ca49-3f8b19b9b5f5",
        "scrolled": true
      },
      "outputs": [
        {
          "name": "stdout",
          "output_type": "stream",
          "text": [
            "Epoch 1/100\n",
            "1094/1094 [==============================] - 25s 14ms/step - loss: 1.6021 - accuracy: 0.4076 - val_loss: 1.3072 - val_accuracy: 0.5333\n",
            "Epoch 2/100\n",
            "1094/1094 [==============================] - 15s 14ms/step - loss: 1.2339 - accuracy: 0.5589 - val_loss: 1.0987 - val_accuracy: 0.6145\n",
            "Epoch 3/100\n",
            "1094/1094 [==============================] - 15s 14ms/step - loss: 1.0866 - accuracy: 0.6139 - val_loss: 1.0134 - val_accuracy: 0.6435\n",
            "Epoch 4/100\n",
            "1094/1094 [==============================] - 15s 13ms/step - loss: 0.9768 - accuracy: 0.6550 - val_loss: 0.9585 - val_accuracy: 0.6663\n",
            "Epoch 5/100\n",
            "1094/1094 [==============================] - 15s 13ms/step - loss: 0.8954 - accuracy: 0.6827 - val_loss: 0.9046 - val_accuracy: 0.6829\n",
            "Epoch 6/100\n",
            "1094/1094 [==============================] - 15s 13ms/step - loss: 0.8320 - accuracy: 0.7067 - val_loss: 0.8948 - val_accuracy: 0.6899\n",
            "Epoch 7/100\n",
            "1094/1094 [==============================] - 14s 13ms/step - loss: 0.7755 - accuracy: 0.7239 - val_loss: 0.8584 - val_accuracy: 0.7015\n",
            "Epoch 8/100\n",
            "1094/1094 [==============================] - 15s 13ms/step - loss: 0.7274 - accuracy: 0.7416 - val_loss: 0.8251 - val_accuracy: 0.7163\n",
            "Epoch 9/100\n",
            "1094/1094 [==============================] - 15s 13ms/step - loss: 0.6778 - accuracy: 0.7595 - val_loss: 0.8100 - val_accuracy: 0.7229\n",
            "Epoch 10/100\n",
            "1094/1094 [==============================] - 15s 13ms/step - loss: 0.6296 - accuracy: 0.7758 - val_loss: 0.8564 - val_accuracy: 0.7103\n",
            "Epoch 11/100\n",
            "1094/1094 [==============================] - 15s 13ms/step - loss: 0.5947 - accuracy: 0.7872 - val_loss: 0.8429 - val_accuracy: 0.7129\n",
            "Epoch 12/100\n",
            "1094/1094 [==============================] - 14s 13ms/step - loss: 0.5595 - accuracy: 0.8004 - val_loss: 0.8139 - val_accuracy: 0.7226\n",
            "Epoch 13/100\n",
            "1094/1094 [==============================] - 14s 13ms/step - loss: 0.5189 - accuracy: 0.8136 - val_loss: 0.8471 - val_accuracy: 0.7143\n",
            "Epoch 14/100\n",
            "1094/1094 [==============================] - 15s 13ms/step - loss: 0.4844 - accuracy: 0.8251 - val_loss: 0.8586 - val_accuracy: 0.7221\n",
            "Epoch 15/100\n",
            "1094/1094 [==============================] - 15s 13ms/step - loss: 0.4666 - accuracy: 0.8344 - val_loss: 0.8995 - val_accuracy: 0.7124\n",
            "Epoch 16/100\n",
            "1094/1094 [==============================] - 15s 13ms/step - loss: 0.4367 - accuracy: 0.8442 - val_loss: 0.9014 - val_accuracy: 0.7145\n",
            "Epoch 17/100\n",
            "1094/1094 [==============================] - 14s 13ms/step - loss: 0.4139 - accuracy: 0.8525 - val_loss: 0.8998 - val_accuracy: 0.7157\n",
            "Epoch 18/100\n",
            "1094/1094 [==============================] - 15s 13ms/step - loss: 0.3857 - accuracy: 0.8622 - val_loss: 0.9087 - val_accuracy: 0.7154\n",
            "Epoch 19/100\n",
            "1094/1094 [==============================] - 15s 13ms/step - loss: 0.3732 - accuracy: 0.8669 - val_loss: 0.9538 - val_accuracy: 0.7121\n",
            "Epoch 20/100\n",
            "1094/1094 [==============================] - 15s 13ms/step - loss: 0.3622 - accuracy: 0.8720 - val_loss: 0.9317 - val_accuracy: 0.7223\n",
            "Epoch 21/100\n",
            "1094/1094 [==============================] - 15s 13ms/step - loss: 0.3397 - accuracy: 0.8795 - val_loss: 0.9871 - val_accuracy: 0.7144\n",
            "Epoch 22/100\n",
            "1094/1094 [==============================] - 15s 13ms/step - loss: 0.3426 - accuracy: 0.8808 - val_loss: 1.0236 - val_accuracy: 0.6947\n",
            "Epoch 23/100\n",
            "1094/1094 [==============================] - 17s 16ms/step - loss: 0.3259 - accuracy: 0.8861 - val_loss: 0.9921 - val_accuracy: 0.7179\n",
            "Epoch 24/100\n",
            "1094/1094 [==============================] - 19s 18ms/step - loss: 0.3138 - accuracy: 0.8899 - val_loss: 1.0160 - val_accuracy: 0.7123\n",
            "Epoch 25/100\n",
            "1094/1094 [==============================] - 16s 14ms/step - loss: 0.3045 - accuracy: 0.8936 - val_loss: 1.0301 - val_accuracy: 0.7120\n",
            "Epoch 26/100\n",
            "1094/1094 [==============================] - 15s 13ms/step - loss: 0.2923 - accuracy: 0.8978 - val_loss: 1.0226 - val_accuracy: 0.7177\n",
            "Epoch 27/100\n",
            "1094/1094 [==============================] - 15s 14ms/step - loss: 0.2893 - accuracy: 0.8999 - val_loss: 1.0311 - val_accuracy: 0.7137\n",
            "Epoch 28/100\n",
            "1094/1094 [==============================] - 15s 14ms/step - loss: 0.2719 - accuracy: 0.9066 - val_loss: 1.0659 - val_accuracy: 0.7128\n",
            "Epoch 29/100\n",
            "1094/1094 [==============================] - 15s 14ms/step - loss: 0.2748 - accuracy: 0.9041 - val_loss: 1.0576 - val_accuracy: 0.7068\n",
            "Epoch 30/100\n",
            "1094/1094 [==============================] - 15s 14ms/step - loss: 0.2740 - accuracy: 0.9061 - val_loss: 1.1273 - val_accuracy: 0.7084\n",
            "Epoch 31/100\n",
            "1094/1094 [==============================] - 15s 14ms/step - loss: 0.2693 - accuracy: 0.9073 - val_loss: 1.1244 - val_accuracy: 0.7135\n",
            "Epoch 32/100\n",
            "1094/1094 [==============================] - 15s 14ms/step - loss: 0.2595 - accuracy: 0.9103 - val_loss: 1.1323 - val_accuracy: 0.7089\n",
            "Epoch 33/100\n",
            "1094/1094 [==============================] - 15s 14ms/step - loss: 0.2528 - accuracy: 0.9139 - val_loss: 1.1791 - val_accuracy: 0.7097\n",
            "Epoch 34/100\n",
            "1094/1094 [==============================] - 15s 13ms/step - loss: 0.2633 - accuracy: 0.9114 - val_loss: 1.1495 - val_accuracy: 0.7057\n",
            "Epoch 35/100\n",
            "1094/1094 [==============================] - 15s 14ms/step - loss: 0.2535 - accuracy: 0.9156 - val_loss: 1.2148 - val_accuracy: 0.7012\n",
            "Epoch 36/100\n",
            "1094/1094 [==============================] - 15s 13ms/step - loss: 0.2503 - accuracy: 0.9150 - val_loss: 1.2217 - val_accuracy: 0.7030\n",
            "Epoch 37/100\n",
            "1094/1094 [==============================] - 15s 14ms/step - loss: 0.2473 - accuracy: 0.9159 - val_loss: 1.1130 - val_accuracy: 0.7123\n",
            "Epoch 38/100\n",
            "1094/1094 [==============================] - 15s 14ms/step - loss: 0.2350 - accuracy: 0.9204 - val_loss: 1.2047 - val_accuracy: 0.7043\n",
            "Epoch 39/100\n",
            "1094/1094 [==============================] - 15s 13ms/step - loss: 0.2364 - accuracy: 0.9202 - val_loss: 1.1600 - val_accuracy: 0.7067\n",
            "Epoch 40/100\n",
            "1094/1094 [==============================] - 15s 14ms/step - loss: 0.2296 - accuracy: 0.9221 - val_loss: 1.1833 - val_accuracy: 0.7082\n",
            "Epoch 41/100\n",
            "1094/1094 [==============================] - 15s 13ms/step - loss: 0.2286 - accuracy: 0.9211 - val_loss: 1.2483 - val_accuracy: 0.7015\n",
            "Epoch 42/100\n",
            "1094/1094 [==============================] - 15s 13ms/step - loss: 0.2309 - accuracy: 0.9229 - val_loss: 1.2466 - val_accuracy: 0.6951\n",
            "Epoch 43/100\n",
            "1094/1094 [==============================] - 15s 13ms/step - loss: 0.2264 - accuracy: 0.9235 - val_loss: 1.2124 - val_accuracy: 0.7056\n",
            "Epoch 44/100\n",
            "1094/1094 [==============================] - 15s 13ms/step - loss: 0.2276 - accuracy: 0.9253 - val_loss: 1.2208 - val_accuracy: 0.7053\n",
            "Epoch 45/100\n",
            "1094/1094 [==============================] - 15s 13ms/step - loss: 0.2124 - accuracy: 0.9268 - val_loss: 1.2807 - val_accuracy: 0.7073\n",
            "Epoch 46/100\n",
            "1094/1094 [==============================] - 15s 14ms/step - loss: 0.2274 - accuracy: 0.9255 - val_loss: 1.2579 - val_accuracy: 0.6983\n",
            "Epoch 47/100\n",
            "1094/1094 [==============================] - 15s 13ms/step - loss: 0.2097 - accuracy: 0.9293 - val_loss: 1.2751 - val_accuracy: 0.6989\n",
            "Epoch 48/100\n",
            "1094/1094 [==============================] - 15s 13ms/step - loss: 0.2126 - accuracy: 0.9299 - val_loss: 1.2583 - val_accuracy: 0.7014\n",
            "Epoch 49/100\n",
            "1094/1094 [==============================] - 15s 13ms/step - loss: 0.2086 - accuracy: 0.9307 - val_loss: 1.2435 - val_accuracy: 0.7029\n",
            "Epoch 50/100\n",
            "1094/1094 [==============================] - 15s 14ms/step - loss: 0.2198 - accuracy: 0.9278 - val_loss: 1.3021 - val_accuracy: 0.7015\n",
            "Epoch 51/100\n",
            "1094/1094 [==============================] - 15s 14ms/step - loss: 0.2022 - accuracy: 0.9333 - val_loss: 1.3166 - val_accuracy: 0.7017\n",
            "Epoch 52/100\n",
            "1094/1094 [==============================] - 15s 13ms/step - loss: 0.2067 - accuracy: 0.9324 - val_loss: 1.2651 - val_accuracy: 0.7059\n",
            "Epoch 53/100\n",
            "1094/1094 [==============================] - 15s 14ms/step - loss: 0.1963 - accuracy: 0.9347 - val_loss: 1.3322 - val_accuracy: 0.6961\n",
            "Epoch 54/100\n",
            "1094/1094 [==============================] - 15s 13ms/step - loss: 0.2082 - accuracy: 0.9320 - val_loss: 1.2956 - val_accuracy: 0.7040\n",
            "Epoch 55/100\n",
            "1094/1094 [==============================] - 15s 13ms/step - loss: 0.1982 - accuracy: 0.9351 - val_loss: 1.3462 - val_accuracy: 0.7051\n",
            "Epoch 56/100\n",
            "1094/1094 [==============================] - 15s 13ms/step - loss: 0.2071 - accuracy: 0.9333 - val_loss: 1.3001 - val_accuracy: 0.6991\n",
            "Epoch 57/100\n",
            "1094/1094 [==============================] - 15s 14ms/step - loss: 0.1970 - accuracy: 0.9348 - val_loss: 1.3055 - val_accuracy: 0.7074\n",
            "Epoch 58/100\n",
            "1094/1094 [==============================] - 15s 13ms/step - loss: 0.1956 - accuracy: 0.9366 - val_loss: 1.2890 - val_accuracy: 0.7112\n",
            "Epoch 59/100\n",
            "1094/1094 [==============================] - 15s 13ms/step - loss: 0.2023 - accuracy: 0.9340 - val_loss: 1.3169 - val_accuracy: 0.7009\n",
            "Epoch 60/100\n",
            "1094/1094 [==============================] - 15s 13ms/step - loss: 0.1960 - accuracy: 0.9357 - val_loss: 1.3180 - val_accuracy: 0.7072\n",
            "Epoch 61/100\n",
            "1094/1094 [==============================] - 15s 13ms/step - loss: 0.1928 - accuracy: 0.9367 - val_loss: 1.3714 - val_accuracy: 0.7045\n",
            "Epoch 62/100\n",
            "1094/1094 [==============================] - 15s 13ms/step - loss: 0.1922 - accuracy: 0.9387 - val_loss: 1.3468 - val_accuracy: 0.6979\n",
            "Epoch 63/100\n",
            "1094/1094 [==============================] - 15s 13ms/step - loss: 0.1966 - accuracy: 0.9357 - val_loss: 1.3626 - val_accuracy: 0.6996\n",
            "Epoch 64/100\n",
            "1094/1094 [==============================] - 14s 13ms/step - loss: 0.1996 - accuracy: 0.9361 - val_loss: 1.3018 - val_accuracy: 0.7042\n",
            "Epoch 65/100\n",
            "1094/1094 [==============================] - 15s 13ms/step - loss: 0.1895 - accuracy: 0.9388 - val_loss: 1.3728 - val_accuracy: 0.7010\n",
            "Epoch 66/100\n",
            "1094/1094 [==============================] - 15s 13ms/step - loss: 0.1747 - accuracy: 0.9441 - val_loss: 1.3460 - val_accuracy: 0.6985\n",
            "Epoch 67/100\n",
            "1094/1094 [==============================] - 14s 13ms/step - loss: 0.1899 - accuracy: 0.9405 - val_loss: 1.3905 - val_accuracy: 0.6933\n",
            "Epoch 68/100\n",
            "1094/1094 [==============================] - 15s 14ms/step - loss: 0.1839 - accuracy: 0.9404 - val_loss: 1.4293 - val_accuracy: 0.7009\n",
            "Epoch 69/100\n",
            "1094/1094 [==============================] - 15s 13ms/step - loss: 0.1917 - accuracy: 0.9387 - val_loss: 1.4115 - val_accuracy: 0.6961\n",
            "Epoch 70/100\n",
            "1094/1094 [==============================] - 15s 13ms/step - loss: 0.1870 - accuracy: 0.9414 - val_loss: 1.4952 - val_accuracy: 0.6977\n",
            "Epoch 71/100\n",
            "1094/1094 [==============================] - 15s 13ms/step - loss: 0.1885 - accuracy: 0.9400 - val_loss: 1.4476 - val_accuracy: 0.6985\n",
            "Epoch 72/100\n",
            "1094/1094 [==============================] - 15s 13ms/step - loss: 0.1856 - accuracy: 0.9408 - val_loss: 1.5018 - val_accuracy: 0.6975\n",
            "Epoch 73/100\n",
            "1094/1094 [==============================] - 15s 14ms/step - loss: 0.1840 - accuracy: 0.9419 - val_loss: 1.3991 - val_accuracy: 0.6977\n",
            "Epoch 74/100\n",
            "1094/1094 [==============================] - 15s 13ms/step - loss: 0.1771 - accuracy: 0.9427 - val_loss: 1.4486 - val_accuracy: 0.7001\n",
            "Epoch 75/100\n",
            "1094/1094 [==============================] - 15s 13ms/step - loss: 0.1799 - accuracy: 0.9448 - val_loss: 1.4045 - val_accuracy: 0.6985\n",
            "Epoch 76/100\n",
            "1094/1094 [==============================] - 15s 13ms/step - loss: 0.1824 - accuracy: 0.9413 - val_loss: 1.4252 - val_accuracy: 0.6989\n",
            "Epoch 77/100\n",
            "1094/1094 [==============================] - 15s 13ms/step - loss: 0.1699 - accuracy: 0.9474 - val_loss: 1.4264 - val_accuracy: 0.6986\n",
            "Epoch 78/100\n",
            "1094/1094 [==============================] - 15s 13ms/step - loss: 0.1705 - accuracy: 0.9467 - val_loss: 1.4418 - val_accuracy: 0.6987\n",
            "Epoch 79/100\n",
            "1094/1094 [==============================] - 15s 13ms/step - loss: 0.1844 - accuracy: 0.9431 - val_loss: 1.4671 - val_accuracy: 0.7025\n",
            "Epoch 80/100\n",
            "1094/1094 [==============================] - 15s 13ms/step - loss: 0.1791 - accuracy: 0.9436 - val_loss: 1.4616 - val_accuracy: 0.6997\n",
            "Epoch 81/100\n",
            "1094/1094 [==============================] - 15s 14ms/step - loss: 0.1770 - accuracy: 0.9451 - val_loss: 1.4893 - val_accuracy: 0.6994\n",
            "Epoch 82/100\n",
            "1094/1094 [==============================] - 15s 14ms/step - loss: 0.1786 - accuracy: 0.9447 - val_loss: 1.5109 - val_accuracy: 0.7011\n",
            "Epoch 83/100\n",
            "1094/1094 [==============================] - 15s 13ms/step - loss: 0.1754 - accuracy: 0.9450 - val_loss: 1.4827 - val_accuracy: 0.6951\n",
            "Epoch 84/100\n",
            "1094/1094 [==============================] - 14s 13ms/step - loss: 0.1793 - accuracy: 0.9442 - val_loss: 1.4588 - val_accuracy: 0.6960\n",
            "Epoch 85/100\n",
            "1094/1094 [==============================] - 15s 13ms/step - loss: 0.1683 - accuracy: 0.9477 - val_loss: 1.5097 - val_accuracy: 0.6945\n",
            "Epoch 86/100\n",
            "1094/1094 [==============================] - 15s 13ms/step - loss: 0.1709 - accuracy: 0.9462 - val_loss: 1.4969 - val_accuracy: 0.6997\n",
            "Epoch 87/100\n",
            "1094/1094 [==============================] - 15s 14ms/step - loss: 0.1747 - accuracy: 0.9457 - val_loss: 1.4615 - val_accuracy: 0.6994\n",
            "Epoch 88/100\n",
            "1094/1094 [==============================] - 15s 13ms/step - loss: 0.1774 - accuracy: 0.9457 - val_loss: 1.5472 - val_accuracy: 0.6912\n",
            "Epoch 89/100\n",
            "1094/1094 [==============================] - 15s 14ms/step - loss: 0.1672 - accuracy: 0.9494 - val_loss: 1.5565 - val_accuracy: 0.6987\n",
            "Epoch 90/100\n",
            "1094/1094 [==============================] - 15s 14ms/step - loss: 0.1714 - accuracy: 0.9484 - val_loss: 1.5320 - val_accuracy: 0.6928\n",
            "Epoch 91/100\n",
            "1094/1094 [==============================] - 15s 14ms/step - loss: 0.1768 - accuracy: 0.9455 - val_loss: 1.4737 - val_accuracy: 0.6973\n",
            "Epoch 92/100\n",
            "1094/1094 [==============================] - 16s 15ms/step - loss: 0.1771 - accuracy: 0.9460 - val_loss: 1.4967 - val_accuracy: 0.6974\n",
            "Epoch 93/100\n",
            "1094/1094 [==============================] - 15s 14ms/step - loss: 0.1719 - accuracy: 0.9479 - val_loss: 1.4859 - val_accuracy: 0.6990\n",
            "Epoch 94/100\n",
            "1094/1094 [==============================] - 15s 13ms/step - loss: 0.1684 - accuracy: 0.9492 - val_loss: 1.6251 - val_accuracy: 0.6899\n",
            "Epoch 95/100\n",
            "1094/1094 [==============================] - 15s 13ms/step - loss: 0.1652 - accuracy: 0.9495 - val_loss: 1.5233 - val_accuracy: 0.7045\n",
            "Epoch 96/100\n",
            "1094/1094 [==============================] - 15s 14ms/step - loss: 0.1664 - accuracy: 0.9487 - val_loss: 1.4969 - val_accuracy: 0.7050\n",
            "Epoch 97/100\n",
            "1094/1094 [==============================] - 15s 14ms/step - loss: 0.1713 - accuracy: 0.9479 - val_loss: 1.5133 - val_accuracy: 0.7028\n",
            "Epoch 98/100\n",
            "1094/1094 [==============================] - 15s 14ms/step - loss: 0.1603 - accuracy: 0.9500 - val_loss: 1.5639 - val_accuracy: 0.7001\n",
            "Epoch 99/100\n",
            "1094/1094 [==============================] - 15s 14ms/step - loss: 0.1675 - accuracy: 0.9487 - val_loss: 1.5075 - val_accuracy: 0.7048\n",
            "Epoch 100/100\n",
            "1094/1094 [==============================] - 15s 14ms/step - loss: 0.1684 - accuracy: 0.9475 - val_loss: 1.5135 - val_accuracy: 0.7003\n"
          ]
        },
        {
          "data": {
            "text/plain": [
              "<keras.callbacks.History at 0x7f0190158290>"
            ]
          },
          "execution_count": 10,
          "metadata": {},
          "output_type": "execute_result"
        }
      ],
      "source": [
        "model.fit(x_train,y_train,epochs=100,validation_split=0.3,callbacks=[tsb])"
      ]
    },
    {
      "cell_type": "code",
      "execution_count": 11,
      "id": "9418a1b3",
      "metadata": {
        "id": "9418a1b3"
      },
      "outputs": [],
      "source": [
        "pred=(model.predict(x))"
      ]
    },
    {
      "cell_type": "code",
      "execution_count": 12,
      "id": "f2a780fb",
      "metadata": {
        "colab": {
          "base_uri": "https://localhost:8080/",
          "height": 35
        },
        "id": "f2a780fb",
        "outputId": "625c025b-514a-4037-9853-1036148ab0c9"
      },
      "outputs": [
        {
          "data": {
            "application/vnd.google.colaboratory.intrinsic+json": {
              "type": "string"
            },
            "text/plain": [
              "'frog'"
            ]
          },
          "execution_count": 12,
          "metadata": {},
          "output_type": "execute_result"
        }
      ],
      "source": [
        "classes[np.argmax([i for i in pred[5]])]"
      ]
    },
    {
      "cell_type": "code",
      "execution_count": 13,
      "id": "ebfac685",
      "metadata": {
        "colab": {
          "base_uri": "https://localhost:8080/",
          "height": 35
        },
        "id": "ebfac685",
        "outputId": "103dfc0c-71cc-4865-ee5c-28adf3390a9d"
      },
      "outputs": [
        {
          "data": {
            "application/vnd.google.colaboratory.intrinsic+json": {
              "type": "string"
            },
            "text/plain": [
              "'frog'"
            ]
          },
          "execution_count": 13,
          "metadata": {},
          "output_type": "execute_result"
        }
      ],
      "source": [
        "classes[int(y[5])]"
      ]
    },
    {
      "cell_type": "markdown",
      "id": "d0de5644",
      "metadata": {
        "id": "d0de5644"
      },
      "source": [
        "# Save"
      ]
    },
    {
      "cell_type": "code",
      "execution_count": 14,
      "id": "0ac42b8c",
      "metadata": {
        "id": "0ac42b8c"
      },
      "outputs": [],
      "source": [
        "model.save(\"cifar_10.h5\")"
      ]
    },
    {
      "cell_type": "code",
      "execution_count": 15,
      "id": "5b9488d7",
      "metadata": {
        "colab": {
          "base_uri": "https://localhost:8080/"
        },
        "id": "5b9488d7",
        "outputId": "d83b74dc-80be-46dd-d39c-e3b77bed438b"
      },
      "outputs": [
        {
          "name": "stdout",
          "output_type": "stream",
          "text": [
            "INFO:tensorflow:Assets written to: cifar_10.model/assets\n"
          ]
        }
      ],
      "source": [
        "model.save(\"cifar_10.model\")"
      ]
    },
    {
      "cell_type": "code",
      "execution_count": 16,
      "id": "9e66bc8b",
      "metadata": {
        "colab": {
          "base_uri": "https://localhost:8080/"
        },
        "id": "9e66bc8b",
        "outputId": "ad0110d9-e602-4acc-b3c7-72637afec1b3"
      },
      "outputs": [
        {
          "name": "stdout",
          "output_type": "stream",
          "text": [
            "INFO:tensorflow:Assets written to: /tmp/tmpg7fovtq3/assets\n"
          ]
        },
        {
          "name": "stderr",
          "output_type": "stream",
          "text": [
            "WARNING:absl:Buffer deduplication procedure will be skipped when flatbuffer library is not properly loaded\n"
          ]
        }
      ],
      "source": [
        "with open(\"cifar_10.tflite\",\"wb\")as f:\n",
        "    f.write(tf.lite.TFLiteConverter.from_keras_model(model).convert())"
      ]
    }
  ],
  "metadata": {
    "accelerator": "GPU",
    "colab": {
      "collapsed_sections": [],
      "name": "cifar10_dataset.ipynb",
      "provenance": []
    },
    "kernelspec": {
      "display_name": "Python 3 (ipykernel)",
      "language": "python",
      "name": "python3"
    },
    "language_info": {
      "codemirror_mode": {
        "name": "ipython",
        "version": 3
      },
      "file_extension": ".py",
      "mimetype": "text/x-python",
      "name": "python",
      "nbconvert_exporter": "python",
      "pygments_lexer": "ipython3",
      "version": "3.9.7"
    }
  },
  "nbformat": 4,
  "nbformat_minor": 5
}
