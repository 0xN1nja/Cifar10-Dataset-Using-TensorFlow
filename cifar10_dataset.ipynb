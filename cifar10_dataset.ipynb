{
  "cells": [
    {
      "cell_type": "code",
      "execution_count": 1,
      "id": "d04f1b2b",
      "metadata": {
        "id": "d04f1b2b"
      },
      "outputs": [],
      "source": [
        "import tensorflow as tf\n",
        "import numpy as np\n",
        "import cv2\n",
        "import matplotlib.pyplot as plt"
      ]
    },
    {
      "cell_type": "code",
      "execution_count": 2,
      "id": "fdb6bd2b",
      "metadata": {
        "id": "fdb6bd2b"
      },
      "outputs": [],
      "source": [
        "model=tf.keras.models.Sequential([\n",
        "    tf.keras.layers.Conv2D(128,(3,3),input_shape=(32,32,3),activation=tf.nn.relu),\n",
        "    tf.keras.layers.MaxPool2D(),\n",
        "    tf.keras.layers.Conv2D(128,(3,3),activation=tf.nn.relu),\n",
        "    tf.keras.layers.MaxPool2D(),\n",
        "    tf.keras.layers.Conv2D(128,(3,3),activation=tf.nn.relu),\n",
        "    tf.keras.layers.MaxPool2D(),\n",
        "    tf.keras.layers.Dropout(0.25),\n",
        "    tf.keras.layers.Flatten(),\n",
        "    tf.keras.layers.Dense(1024,activation=tf.nn.relu),\n",
        "    tf.keras.layers.Dense(10,activation=tf.nn.softmax)\n",
        "])"
      ]
    },
    {
      "cell_type": "code",
      "execution_count": 3,
      "id": "6032eebc",
      "metadata": {
        "id": "6032eebc"
      },
      "outputs": [],
      "source": [
        "tsb=tf.keras.callbacks.TensorBoard(log_dir=\"logs/\")"
      ]
    },
    {
      "cell_type": "code",
      "execution_count": 4,
      "id": "af099f6f",
      "metadata": {
        "colab": {
          "base_uri": "https://localhost:8080/"
        },
        "id": "af099f6f",
        "outputId": "7b426950-776f-4974-a0da-32932b1d169d"
      },
      "outputs": [
        {
          "output_type": "stream",
          "name": "stdout",
          "text": [
            "Downloading data from https://www.cs.toronto.edu/~kriz/cifar-10-python.tar.gz\n",
            "170500096/170498071 [==============================] - 6s 0us/step\n",
            "170508288/170498071 [==============================] - 6s 0us/step\n"
          ]
        }
      ],
      "source": [
        "(x_train,y_train),(x,y)=tf.keras.datasets.cifar10.load_data()\n",
        "x_train,x=x_train/255,x/255"
      ]
    },
    {
      "cell_type": "code",
      "execution_count": 5,
      "id": "c299b460",
      "metadata": {
        "id": "c299b460"
      },
      "outputs": [],
      "source": [
        "classes=['plane','car','bird','cat','deer','dog','frog','horse','ship','truck']"
      ]
    },
    {
      "cell_type": "code",
      "execution_count": 6,
      "id": "c4b2c944",
      "metadata": {
        "id": "c4b2c944"
      },
      "outputs": [],
      "source": [
        "model.compile(optimizer=\"adam\",loss=\"sparse_categorical_crossentropy\",metrics=[\"accuracy\"])"
      ]
    },
    {
      "cell_type": "code",
      "execution_count": 7,
      "id": "9eb38e27",
      "metadata": {
        "scrolled": true,
        "colab": {
          "base_uri": "https://localhost:8080/"
        },
        "id": "9eb38e27",
        "outputId": "5b4b1bee-68ba-4d82-af52-c5fda40ef8bf"
      },
      "outputs": [
        {
          "output_type": "stream",
          "name": "stdout",
          "text": [
            "Epoch 1/25\n",
            "1094/1094 [==============================] - 25s 14ms/step - loss: 1.5892 - accuracy: 0.4138 - val_loss: 1.3037 - val_accuracy: 0.5397\n",
            "Epoch 2/25\n",
            "1094/1094 [==============================] - 15s 14ms/step - loss: 1.2423 - accuracy: 0.5553 - val_loss: 1.1762 - val_accuracy: 0.5875\n",
            "Epoch 3/25\n",
            "1094/1094 [==============================] - 16s 14ms/step - loss: 1.0845 - accuracy: 0.6139 - val_loss: 1.0265 - val_accuracy: 0.6351\n",
            "Epoch 4/25\n",
            "1094/1094 [==============================] - 15s 14ms/step - loss: 0.9845 - accuracy: 0.6531 - val_loss: 0.9565 - val_accuracy: 0.6680\n",
            "Epoch 5/25\n",
            "1094/1094 [==============================] - 15s 14ms/step - loss: 0.9033 - accuracy: 0.6796 - val_loss: 0.9145 - val_accuracy: 0.6792\n",
            "Epoch 6/25\n",
            "1094/1094 [==============================] - 15s 14ms/step - loss: 0.8282 - accuracy: 0.7070 - val_loss: 0.8464 - val_accuracy: 0.7101\n",
            "Epoch 7/25\n",
            "1094/1094 [==============================] - 15s 14ms/step - loss: 0.7783 - accuracy: 0.7234 - val_loss: 0.8673 - val_accuracy: 0.6987\n",
            "Epoch 8/25\n",
            "1094/1094 [==============================] - 15s 14ms/step - loss: 0.7265 - accuracy: 0.7434 - val_loss: 0.8537 - val_accuracy: 0.7070\n",
            "Epoch 9/25\n",
            "1094/1094 [==============================] - 15s 14ms/step - loss: 0.6709 - accuracy: 0.7628 - val_loss: 0.8414 - val_accuracy: 0.7120\n",
            "Epoch 10/25\n",
            "1094/1094 [==============================] - 15s 14ms/step - loss: 0.6283 - accuracy: 0.7767 - val_loss: 0.8258 - val_accuracy: 0.7211\n",
            "Epoch 11/25\n",
            "1094/1094 [==============================] - 15s 14ms/step - loss: 0.5834 - accuracy: 0.7920 - val_loss: 0.8568 - val_accuracy: 0.7145\n",
            "Epoch 12/25\n",
            "1094/1094 [==============================] - 15s 14ms/step - loss: 0.5580 - accuracy: 0.8008 - val_loss: 0.9019 - val_accuracy: 0.7021\n",
            "Epoch 13/25\n",
            "1094/1094 [==============================] - 15s 14ms/step - loss: 0.5160 - accuracy: 0.8178 - val_loss: 0.8619 - val_accuracy: 0.7204\n",
            "Epoch 14/25\n",
            "1094/1094 [==============================] - 15s 14ms/step - loss: 0.4941 - accuracy: 0.8243 - val_loss: 0.8725 - val_accuracy: 0.7147\n",
            "Epoch 15/25\n",
            "1094/1094 [==============================] - 15s 14ms/step - loss: 0.4702 - accuracy: 0.8315 - val_loss: 0.8916 - val_accuracy: 0.7146\n",
            "Epoch 16/25\n",
            "1094/1094 [==============================] - 15s 14ms/step - loss: 0.4386 - accuracy: 0.8428 - val_loss: 0.9105 - val_accuracy: 0.7147\n",
            "Epoch 17/25\n",
            "1094/1094 [==============================] - 15s 14ms/step - loss: 0.4138 - accuracy: 0.8526 - val_loss: 0.8953 - val_accuracy: 0.7201\n",
            "Epoch 18/25\n",
            "1094/1094 [==============================] - 15s 14ms/step - loss: 0.3968 - accuracy: 0.8587 - val_loss: 0.9090 - val_accuracy: 0.7220\n",
            "Epoch 19/25\n",
            "1094/1094 [==============================] - 15s 14ms/step - loss: 0.3778 - accuracy: 0.8661 - val_loss: 0.9592 - val_accuracy: 0.7131\n",
            "Epoch 20/25\n",
            "1094/1094 [==============================] - 15s 14ms/step - loss: 0.3652 - accuracy: 0.8701 - val_loss: 0.9412 - val_accuracy: 0.7134\n",
            "Epoch 21/25\n",
            "1094/1094 [==============================] - 15s 14ms/step - loss: 0.3529 - accuracy: 0.8747 - val_loss: 0.9433 - val_accuracy: 0.7126\n",
            "Epoch 22/25\n",
            "1094/1094 [==============================] - 15s 14ms/step - loss: 0.3358 - accuracy: 0.8823 - val_loss: 0.9780 - val_accuracy: 0.7117\n",
            "Epoch 23/25\n",
            "1094/1094 [==============================] - 15s 14ms/step - loss: 0.3277 - accuracy: 0.8855 - val_loss: 1.0260 - val_accuracy: 0.7087\n",
            "Epoch 24/25\n",
            "1094/1094 [==============================] - 15s 14ms/step - loss: 0.3147 - accuracy: 0.8889 - val_loss: 1.0538 - val_accuracy: 0.7091\n",
            "Epoch 25/25\n",
            "1094/1094 [==============================] - 15s 14ms/step - loss: 0.3136 - accuracy: 0.8907 - val_loss: 1.0121 - val_accuracy: 0.7171\n"
          ]
        },
        {
          "output_type": "execute_result",
          "data": {
            "text/plain": [
              "<keras.callbacks.History at 0x7fb3000b8710>"
            ]
          },
          "metadata": {},
          "execution_count": 7
        }
      ],
      "source": [
        "model.fit(x_train,y_train,epochs=25,validation_split=0.3,callbacks=[tsb])"
      ]
    },
    {
      "cell_type": "code",
      "execution_count": 8,
      "id": "9418a1b3",
      "metadata": {
        "id": "9418a1b3"
      },
      "outputs": [],
      "source": [
        "pred=(model.predict(x))"
      ]
    },
    {
      "cell_type": "code",
      "execution_count": 16,
      "id": "f2a780fb",
      "metadata": {
        "colab": {
          "base_uri": "https://localhost:8080/",
          "height": 35
        },
        "id": "f2a780fb",
        "outputId": "60b8aace-a90e-433a-92ca-270bd7073bbd"
      },
      "outputs": [
        {
          "output_type": "execute_result",
          "data": {
            "text/plain": [
              "'frog'"
            ],
            "application/vnd.google.colaboratory.intrinsic+json": {
              "type": "string"
            }
          },
          "metadata": {},
          "execution_count": 16
        }
      ],
      "source": [
        "classes[np.argmax([i for i in pred[5]])]"
      ]
    },
    {
      "cell_type": "code",
      "execution_count": 15,
      "id": "ebfac685",
      "metadata": {
        "colab": {
          "base_uri": "https://localhost:8080/",
          "height": 35
        },
        "id": "ebfac685",
        "outputId": "80134e2f-99c0-4628-affb-04cb38bc9ab8"
      },
      "outputs": [
        {
          "output_type": "execute_result",
          "data": {
            "text/plain": [
              "'frog'"
            ],
            "application/vnd.google.colaboratory.intrinsic+json": {
              "type": "string"
            }
          },
          "metadata": {},
          "execution_count": 15
        }
      ],
      "source": [
        "classes[int(y[5])]"
      ]
    },
    {
      "cell_type": "markdown",
      "id": "d0de5644",
      "metadata": {
        "id": "d0de5644"
      },
      "source": [
        "# Save"
      ]
    },
    {
      "cell_type": "code",
      "execution_count": 11,
      "id": "0ac42b8c",
      "metadata": {
        "id": "0ac42b8c"
      },
      "outputs": [],
      "source": [
        "model.save(\"cifar_10.h5\")"
      ]
    },
    {
      "cell_type": "code",
      "execution_count": 12,
      "id": "5b9488d7",
      "metadata": {
        "colab": {
          "base_uri": "https://localhost:8080/"
        },
        "id": "5b9488d7",
        "outputId": "f9ec5139-b722-4259-917b-9473db817993"
      },
      "outputs": [
        {
          "output_type": "stream",
          "name": "stdout",
          "text": [
            "INFO:tensorflow:Assets written to: cifar_10.model/assets\n"
          ]
        }
      ],
      "source": [
        "model.save(\"cifar_10.model\")"
      ]
    },
    {
      "cell_type": "code",
      "execution_count": 13,
      "id": "9e66bc8b",
      "metadata": {
        "colab": {
          "base_uri": "https://localhost:8080/"
        },
        "id": "9e66bc8b",
        "outputId": "a041837b-4230-4e39-8449-12cc6d51e31e"
      },
      "outputs": [
        {
          "output_type": "stream",
          "name": "stdout",
          "text": [
            "INFO:tensorflow:Assets written to: /tmp/tmp9dfjcm4i/assets\n"
          ]
        },
        {
          "output_type": "stream",
          "name": "stderr",
          "text": [
            "WARNING:absl:Buffer deduplication procedure will be skipped when flatbuffer library is not properly loaded\n"
          ]
        }
      ],
      "source": [
        "with open(\"cifar_10.tflite\",\"wb\")as f:\n",
        "    f.write(tf.lite.TFLiteConverter.from_keras_model(model).convert())"
      ]
    }
  ],
  "metadata": {
    "kernelspec": {
      "display_name": "Python 3 (ipykernel)",
      "language": "python",
      "name": "python3"
    },
    "language_info": {
      "codemirror_mode": {
        "name": "ipython",
        "version": 3
      },
      "file_extension": ".py",
      "mimetype": "text/x-python",
      "name": "python",
      "nbconvert_exporter": "python",
      "pygments_lexer": "ipython3",
      "version": "3.9.7"
    },
    "colab": {
      "name": "cifar10_dataset.ipynb",
      "provenance": [],
      "collapsed_sections": []
    },
    "accelerator": "GPU"
  },
  "nbformat": 4,
  "nbformat_minor": 5
}